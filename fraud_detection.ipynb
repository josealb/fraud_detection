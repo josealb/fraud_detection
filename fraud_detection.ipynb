{
  "nbformat": 4,
  "nbformat_minor": 0,
  "metadata": {
    "colab": {
      "name": "fraud_detection.ipynb",
      "version": "0.3.2",
      "provenance": [],
      "toc_visible": true
    },
    "kernelspec": {
      "name": "python3",
      "display_name": "Python 3"
    }
  },
  "cells": [
    {
      "cell_type": "markdown",
      "metadata": {
        "id": "JXSubocdTHCk",
        "colab_type": "text"
      },
      "source": [
        "## Fraud detection\n",
        "Our tasks\n",
        "- Explore the dataset/visualize\n",
        "- Decide which features are important\n",
        "- Perform machine learning\n",
        "- Test the model on the testing set"
      ]
    },
    {
      "cell_type": "code",
      "metadata": {
        "id": "3vFJ2REkS1Qu",
        "colab_type": "code",
        "colab": {}
      },
      "source": [
        "import numpy as np\n",
        "import sklearn as sk\n",
        "import pandas as pd\n",
        "import matplotlib.pyplot as plt\n",
        "from sklearn.preprocessing import scale\n",
        "import random"
      ],
      "execution_count": 0,
      "outputs": []
    },
    {
      "cell_type": "code",
      "metadata": {
        "id": "29ayWE2yTD-M",
        "colab_type": "code",
        "outputId": "a8ef73d9-f5e3-40c0-850e-1b9a969ff830",
        "colab": {
          "base_uri": "https://localhost:8080/",
          "height": 224
        }
      },
      "source": [
        "df = pd.read_csv('creditcard.csv', low_memory=False)\n",
        "df = df.sample(frac=1).reset_index(drop=True)\n",
        "df.head()"
      ],
      "execution_count": 49,
      "outputs": [
        {
          "output_type": "execute_result",
          "data": {
            "text/html": [
              "<div>\n",
              "<style scoped>\n",
              "    .dataframe tbody tr th:only-of-type {\n",
              "        vertical-align: middle;\n",
              "    }\n",
              "\n",
              "    .dataframe tbody tr th {\n",
              "        vertical-align: top;\n",
              "    }\n",
              "\n",
              "    .dataframe thead th {\n",
              "        text-align: right;\n",
              "    }\n",
              "</style>\n",
              "<table border=\"1\" class=\"dataframe\">\n",
              "  <thead>\n",
              "    <tr style=\"text-align: right;\">\n",
              "      <th></th>\n",
              "      <th>Time</th>\n",
              "      <th>V1</th>\n",
              "      <th>V2</th>\n",
              "      <th>V3</th>\n",
              "      <th>V4</th>\n",
              "      <th>V5</th>\n",
              "      <th>V6</th>\n",
              "      <th>V7</th>\n",
              "      <th>V8</th>\n",
              "      <th>V9</th>\n",
              "      <th>V10</th>\n",
              "      <th>V11</th>\n",
              "      <th>V12</th>\n",
              "      <th>V13</th>\n",
              "      <th>V14</th>\n",
              "      <th>V15</th>\n",
              "      <th>V16</th>\n",
              "      <th>V17</th>\n",
              "      <th>V18</th>\n",
              "      <th>V19</th>\n",
              "      <th>V20</th>\n",
              "      <th>V21</th>\n",
              "      <th>V22</th>\n",
              "      <th>V23</th>\n",
              "      <th>V24</th>\n",
              "      <th>V25</th>\n",
              "      <th>V26</th>\n",
              "      <th>V27</th>\n",
              "      <th>V28</th>\n",
              "      <th>Amount</th>\n",
              "      <th>Class</th>\n",
              "    </tr>\n",
              "  </thead>\n",
              "  <tbody>\n",
              "    <tr>\n",
              "      <th>0</th>\n",
              "      <td>149483.0</td>\n",
              "      <td>1.777266</td>\n",
              "      <td>0.124021</td>\n",
              "      <td>0.510518</td>\n",
              "      <td>3.626357</td>\n",
              "      <td>-0.235379</td>\n",
              "      <td>1.162739</td>\n",
              "      <td>-0.893617</td>\n",
              "      <td>0.450168</td>\n",
              "      <td>-0.454628</td>\n",
              "      <td>1.503947</td>\n",
              "      <td>0.477798</td>\n",
              "      <td>0.555638</td>\n",
              "      <td>0.214250</td>\n",
              "      <td>-0.166060</td>\n",
              "      <td>-0.800499</td>\n",
              "      <td>1.685114</td>\n",
              "      <td>-1.299232</td>\n",
              "      <td>0.510929</td>\n",
              "      <td>-1.607311</td>\n",
              "      <td>-0.202971</td>\n",
              "      <td>0.112686</td>\n",
              "      <td>0.285753</td>\n",
              "      <td>0.358117</td>\n",
              "      <td>0.647168</td>\n",
              "      <td>-0.558630</td>\n",
              "      <td>-0.224788</td>\n",
              "      <td>0.025227</td>\n",
              "      <td>-0.021000</td>\n",
              "      <td>18.16</td>\n",
              "      <td>0</td>\n",
              "    </tr>\n",
              "    <tr>\n",
              "      <th>1</th>\n",
              "      <td>118083.0</td>\n",
              "      <td>1.848079</td>\n",
              "      <td>-0.581152</td>\n",
              "      <td>-1.373743</td>\n",
              "      <td>-0.124866</td>\n",
              "      <td>0.567242</td>\n",
              "      <td>1.059834</td>\n",
              "      <td>-0.304203</td>\n",
              "      <td>0.347990</td>\n",
              "      <td>0.933646</td>\n",
              "      <td>-0.175179</td>\n",
              "      <td>0.739310</td>\n",
              "      <td>1.067394</td>\n",
              "      <td>-0.570028</td>\n",
              "      <td>0.435992</td>\n",
              "      <td>-0.120864</td>\n",
              "      <td>-0.979339</td>\n",
              "      <td>0.273077</td>\n",
              "      <td>-1.236253</td>\n",
              "      <td>-0.193869</td>\n",
              "      <td>-0.264576</td>\n",
              "      <td>-0.058992</td>\n",
              "      <td>0.064208</td>\n",
              "      <td>0.183600</td>\n",
              "      <td>-1.627417</td>\n",
              "      <td>-0.253054</td>\n",
              "      <td>0.021120</td>\n",
              "      <td>0.011158</td>\n",
              "      <td>-0.077980</td>\n",
              "      <td>40.00</td>\n",
              "      <td>0</td>\n",
              "    </tr>\n",
              "    <tr>\n",
              "      <th>2</th>\n",
              "      <td>169968.0</td>\n",
              "      <td>-1.936775</td>\n",
              "      <td>1.908586</td>\n",
              "      <td>0.341675</td>\n",
              "      <td>-0.483602</td>\n",
              "      <td>-0.270247</td>\n",
              "      <td>-0.439365</td>\n",
              "      <td>0.231272</td>\n",
              "      <td>0.258563</td>\n",
              "      <td>0.237273</td>\n",
              "      <td>-0.149595</td>\n",
              "      <td>-0.679982</td>\n",
              "      <td>0.339667</td>\n",
              "      <td>0.052443</td>\n",
              "      <td>0.213464</td>\n",
              "      <td>0.446380</td>\n",
              "      <td>-0.507100</td>\n",
              "      <td>0.114860</td>\n",
              "      <td>-0.270780</td>\n",
              "      <td>0.229914</td>\n",
              "      <td>-0.299596</td>\n",
              "      <td>0.211156</td>\n",
              "      <td>0.082133</td>\n",
              "      <td>-0.222979</td>\n",
              "      <td>1.086549</td>\n",
              "      <td>0.705380</td>\n",
              "      <td>-0.325169</td>\n",
              "      <td>-1.709313</td>\n",
              "      <td>-0.397191</td>\n",
              "      <td>6.10</td>\n",
              "      <td>0</td>\n",
              "    </tr>\n",
              "    <tr>\n",
              "      <th>3</th>\n",
              "      <td>166491.0</td>\n",
              "      <td>-1.624277</td>\n",
              "      <td>-0.197261</td>\n",
              "      <td>0.168018</td>\n",
              "      <td>-0.646116</td>\n",
              "      <td>2.787912</td>\n",
              "      <td>-1.051687</td>\n",
              "      <td>0.359123</td>\n",
              "      <td>-0.489040</td>\n",
              "      <td>0.264383</td>\n",
              "      <td>0.187386</td>\n",
              "      <td>0.821632</td>\n",
              "      <td>0.032644</td>\n",
              "      <td>-0.542142</td>\n",
              "      <td>-1.232295</td>\n",
              "      <td>-0.645848</td>\n",
              "      <td>0.449221</td>\n",
              "      <td>-0.185825</td>\n",
              "      <td>0.326732</td>\n",
              "      <td>0.424799</td>\n",
              "      <td>-0.494013</td>\n",
              "      <td>-0.568620</td>\n",
              "      <td>-0.810835</td>\n",
              "      <td>-0.724490</td>\n",
              "      <td>0.249258</td>\n",
              "      <td>-0.487112</td>\n",
              "      <td>0.079156</td>\n",
              "      <td>-0.054282</td>\n",
              "      <td>-0.327009</td>\n",
              "      <td>6.24</td>\n",
              "      <td>0</td>\n",
              "    </tr>\n",
              "    <tr>\n",
              "      <th>4</th>\n",
              "      <td>104793.0</td>\n",
              "      <td>1.970587</td>\n",
              "      <td>-0.232292</td>\n",
              "      <td>-0.268528</td>\n",
              "      <td>0.349892</td>\n",
              "      <td>-0.421526</td>\n",
              "      <td>-0.207551</td>\n",
              "      <td>-0.681622</td>\n",
              "      <td>0.027434</td>\n",
              "      <td>2.424061</td>\n",
              "      <td>-0.425178</td>\n",
              "      <td>1.623339</td>\n",
              "      <td>-1.588206</td>\n",
              "      <td>1.345989</td>\n",
              "      <td>1.760365</td>\n",
              "      <td>-0.263384</td>\n",
              "      <td>0.441805</td>\n",
              "      <td>-0.218111</td>\n",
              "      <td>0.841362</td>\n",
              "      <td>-0.006669</td>\n",
              "      <td>-0.294716</td>\n",
              "      <td>-0.236511</td>\n",
              "      <td>-0.340174</td>\n",
              "      <td>0.322430</td>\n",
              "      <td>-0.525353</td>\n",
              "      <td>-0.403825</td>\n",
              "      <td>-0.955624</td>\n",
              "      <td>0.029133</td>\n",
              "      <td>-0.047953</td>\n",
              "      <td>2.12</td>\n",
              "      <td>0</td>\n",
              "    </tr>\n",
              "  </tbody>\n",
              "</table>\n",
              "</div>"
            ],
            "text/plain": [
              "       Time        V1        V2        V3  ...       V27       V28  Amount  Class\n",
              "0  149483.0  1.777266  0.124021  0.510518  ...  0.025227 -0.021000   18.16      0\n",
              "1  118083.0  1.848079 -0.581152 -1.373743  ...  0.011158 -0.077980   40.00      0\n",
              "2  169968.0 -1.936775  1.908586  0.341675  ... -1.709313 -0.397191    6.10      0\n",
              "3  166491.0 -1.624277 -0.197261  0.168018  ... -0.054282 -0.327009    6.24      0\n",
              "4  104793.0  1.970587 -0.232292 -0.268528  ...  0.029133 -0.047953    2.12      0\n",
              "\n",
              "[5 rows x 31 columns]"
            ]
          },
          "metadata": {
            "tags": []
          },
          "execution_count": 49
        }
      ]
    },
    {
      "cell_type": "markdown",
      "metadata": {
        "id": "WZBZOF9xTFo0",
        "colab_type": "text"
      },
      "source": [
        ""
      ]
    },
    {
      "cell_type": "code",
      "metadata": {
        "id": "6MxU-2E-BdBl",
        "colab_type": "code",
        "outputId": "782660f1-c572-435c-f022-d93b333b30c4",
        "colab": {
          "base_uri": "https://localhost:8080/",
          "height": 51
        }
      },
      "source": [
        "fraud = df.loc[df['Class'] == 1]\n",
        "non_frauds = df.loc[df['Class'] == 0]\n",
        "print(len(fraud))\n",
        "print(len(non_frauds))"
      ],
      "execution_count": 50,
      "outputs": [
        {
          "output_type": "stream",
          "text": [
            "492\n",
            "284315\n"
          ],
          "name": "stdout"
        }
      ]
    },
    {
      "cell_type": "code",
      "metadata": {
        "id": "HpfzlO9aBzmY",
        "colab_type": "code",
        "outputId": "cfa832e9-30d2-4d25-9844-480efcf48664",
        "colab": {
          "base_uri": "https://localhost:8080/",
          "height": 549
        }
      },
      "source": [
        "ax = fraud.plot.scatter(x='Amount', y='Class', color='Orange', label='Fraud')\n",
        "non_frauds.plot.scatter(x='Amount', y='Class', color='Blue', label='Non Fraud')\n",
        "plt.show()"
      ],
      "execution_count": 51,
      "outputs": [
        {
          "output_type": "display_data",
          "data": {
            "image/png": "[encoded data removed]",
            "text/plain": [
              "<Figure size 432x288 with 1 Axes>"
            ]
          },
          "metadata": {
            "tags": []
          }
        },
        {
          "output_type": "display_data",
          "data": {
            "image/png": "[encoded data removed]",
            "text/plain": [
              "<Figure size 432x288 with 1 Axes>"
            ]
          },
          "metadata": {
            "tags": []
          }
        }
      ]
    },
    {
      "cell_type": "code",
      "metadata": {
        "id": "ifhuJPVzCGju",
        "colab_type": "code",
        "colab": {}
      },
      "source": [
        "from sklearn import linear_model\n",
        "from sklearn.model_selection import train_test_split"
      ],
      "execution_count": 0,
      "outputs": []
    },
    {
      "cell_type": "code",
      "metadata": {
        "id": "pajPt1OKD_q-",
        "colab_type": "code",
        "colab": {}
      },
      "source": [
        "x = df.iloc[:,:-1]\n",
        "y=df['Class']\n",
        "\n",
        "X_train, X_test, y_train, y_test = train_test_split(x,y,test_size=0.35)"
      ],
      "execution_count": 0,
      "outputs": []
    },
    {
      "cell_type": "code",
      "metadata": {
        "id": "yElv0BTyESjO",
        "colab_type": "code",
        "colab": {}
      },
      "source": [
        "logistic = linear_model.LogisticRegression(C=1e5)"
      ],
      "execution_count": 0,
      "outputs": []
    },
    {
      "cell_type": "code",
      "metadata": {
        "id": "Cy2-qcSQEccR",
        "colab_type": "code",
        "outputId": "e4884e69-d77a-441e-887c-a35cb893732f",
        "colab": {
          "base_uri": "https://localhost:8080/",
          "height": 88
        }
      },
      "source": [
        "logistic.fit(X_train, y_train)\n",
        "print('Score: ', logistic.score(X_test,y_test))"
      ],
      "execution_count": 64,
      "outputs": [
        {
          "output_type": "stream",
          "text": [
            "/usr/local/lib/python3.6/dist-packages/sklearn/linear_model/logistic.py:432: FutureWarning: Default solver will be changed to 'lbfgs' in 0.22. Specify a solver to silence this warning.\n",
            "  FutureWarning)\n"
          ],
          "name": "stderr"
        },
        {
          "output_type": "stream",
          "text": [
            "Score:  0.9988664065086323\n"
          ],
          "name": "stdout"
        }
      ]
    },
    {
      "cell_type": "code",
      "metadata": {
        "id": "3r68aLM5EvBf",
        "colab_type": "code",
        "outputId": "08123491-dc27-4a24-df4a-5856079a12fa",
        "colab": {
          "base_uri": "https://localhost:8080/",
          "height": 34
        }
      },
      "source": [
        "y_predicted = np.array(logistic.predict(X_test))\n",
        "y_predicted"
      ],
      "execution_count": 65,
      "outputs": [
        {
          "output_type": "execute_result",
          "data": {
            "text/plain": [
              "array([0, 0, 0, ..., 0, 0, 0])"
            ]
          },
          "metadata": {
            "tags": []
          },
          "execution_count": 65
        }
      ]
    },
    {
      "cell_type": "markdown",
      "metadata": {
        "id": "UvBBfNPmXTRm",
        "colab_type": "text"
      },
      "source": [
        "Plot two first features to visually evaluate if just 2 features are enough for classification"
      ]
    },
    {
      "cell_type": "code",
      "metadata": {
        "id": "TjYCXScdFDui",
        "colab_type": "code",
        "colab": {
          "base_uri": "https://localhost:8080/",
          "height": 386
        },
        "outputId": "26a13128-6c69-4afb-948a-9e0911824f87"
      },
      "source": [
        "import seaborn as sns\n",
        "sns.lmplot(x='V1', y='V2', data=df, hue='Class')"
      ],
      "execution_count": 66,
      "outputs": [
        {
          "output_type": "execute_result",
          "data": {
            "text/plain": [
              "<seaborn.axisgrid.FacetGrid at 0x7f6eef66cda0>"
            ]
          },
          "metadata": {
            "tags": []
          },
          "execution_count": 66
        },
        {
          "output_type": "display_data",
          "data": {
            "image/png": "[encoded data removed]",
            "text/plain": [
              "<Figure size 402.375x360 with 1 Axes>"
            ]
          },
          "metadata": {
            "tags": []
          }
        }
      ]
    },
    {
      "cell_type": "markdown",
      "metadata": {
        "id": "PkgmAKe_W0Im",
        "colab_type": "text"
      },
      "source": [
        "Just 2 features cannot classify the data correctly with any decision boundary. \n",
        "As seen on above, however, when using all dimensions, we can classify using a linear decision boundary and achieve >99.9% accuracy"
      ]
    },
    {
      "cell_type": "markdown",
      "metadata": {
        "id": "_aeQ23g2YTaq",
        "colab_type": "text"
      },
      "source": [
        "Let's explore the importance of the different classes using their respective coefficients in the trained model"
      ]
    },
    {
      "cell_type": "code",
      "metadata": {
        "id": "8R94CmOuXvr7",
        "colab_type": "code",
        "colab": {
          "base_uri": "https://localhost:8080/",
          "height": 153
        },
        "outputId": "c1a1ec6b-4141-40d7-a84c-4b6cb4e5a289"
      },
      "source": [
        "print(np.abs(np.squeeze(logistic.coef_)))"
      ],
      "execution_count": 67,
      "outputs": [
        {
          "output_type": "stream",
          "text": [
            "[8.97762707e-05 1.17629848e-01 3.01175886e-01 6.75909303e-01\n",
            " 1.36846438e-01 2.56295599e-02 5.59082050e-02 1.34238676e-02\n",
            " 8.83372226e-02 3.40071263e-01 1.76080162e-01 1.18972233e-01\n",
            " 1.57336308e-02 2.32134838e-01 6.33600009e-01 1.37656410e-01\n",
            " 2.15878243e-01 3.96370305e-01 1.92147174e-02 4.91618076e-02\n",
            " 2.02483671e-02 1.14374005e-01 1.52865505e-01 3.41505594e-02\n",
            " 2.04157816e-02 1.10543685e-01 1.33383798e-02 4.18593568e-02\n",
            " 1.79243160e-02 8.03843516e-03]\n"
          ],
          "name": "stdout"
        }
      ]
    },
    {
      "cell_type": "code",
      "metadata": {
        "id": "p1enjliUXxvg",
        "colab_type": "code",
        "colab": {
          "base_uri": "https://localhost:8080/",
          "height": 286
        },
        "outputId": "b1d8960d-afbf-4ca4-ebde-8186cc64f2b6"
      },
      "source": [
        "plt.bar(range(0,30),np.abs(np.squeeze(logistic.coef_)))"
      ],
      "execution_count": 68,
      "outputs": [
        {
          "output_type": "execute_result",
          "data": {
            "text/plain": [
              "<BarContainer object of 30 artists>"
            ]
          },
          "metadata": {
            "tags": []
          },
          "execution_count": 68
        },
        {
          "output_type": "display_data",
          "data": {
            "image/png": "[encoded data removed]",
            "text/plain": [
              "<Figure size 432x288 with 1 Axes>"
            ]
          },
          "metadata": {
            "tags": []
          }
        }
      ]
    },
    {
      "cell_type": "code",
      "metadata": {
        "id": "OAALDUgQYAmS",
        "colab_type": "code",
        "colab": {
          "base_uri": "https://localhost:8080/",
          "height": 386
        },
        "outputId": "5c7d962b-4fef-41b1-8fcb-d34c5665b9ec"
      },
      "source": [
        "sns.lmplot(x='V3', y='V14', data=df, hue='Class')"
      ],
      "execution_count": 69,
      "outputs": [
        {
          "output_type": "execute_result",
          "data": {
            "text/plain": [
              "<seaborn.axisgrid.FacetGrid at 0x7f6eef593438>"
            ]
          },
          "metadata": {
            "tags": []
          },
          "execution_count": 69
        },
        {
          "output_type": "display_data",
          "data": {
            "image/png": "[encoded data removed]",
            "text/plain": [
              "<Figure size 402.375x360 with 1 Axes>"
            ]
          },
          "metadata": {
            "tags": []
          }
        }
      ]
    },
    {
      "cell_type": "markdown",
      "metadata": {
        "id": "Gt-VK_58Zwrs",
        "colab_type": "text"
      },
      "source": [
        "Although these classes look like they could create a better separation, this is still not enough to achieve any reasonable accuracy. More than two classes need to be used for the decision"
      ]
    },
    {
      "cell_type": "code",
      "metadata": {
        "id": "pH_m6OXuZ8M3",
        "colab_type": "code",
        "colab": {}
      },
      "source": [
        ""
      ],
      "execution_count": 0,
      "outputs": []
    }
  ]
}